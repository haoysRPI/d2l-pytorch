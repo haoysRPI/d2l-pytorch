{
 "cells": [
  {
   "cell_type": "markdown",
   "metadata": {},
   "source": [
    "# Parameter Management"
   ]
  },
  {
   "cell_type": "markdown",
   "metadata": {},
   "source": [
    "The ultimate goal of training deep networks is to find good parameter values for a given architecture. When everything is standard, the __torch.nn.Sequential__ class is a perfectly good tool for it. However, very few models are entirely standard and most scientists want to build things that are novel. This section shows how to manipulate parameters. In particular we will cover the following aspects:"
   ]
  },
  {
   "cell_type": "markdown",
   "metadata": {},
   "source": [
    "- Accessing parameters for debugging, diagnostics, to visualize them or to save them is the first step to understanding how to work with custom models.\n",
    "- Secondly, we want to set them in specific ways, e.g. for initialization purposes. We discuss the structure of parameter initializers.\n",
    "- Lastly, we show how this knowledge can be put to good use by building networks that share some parameters."
   ]
  },
  {
   "cell_type": "markdown",
   "metadata": {},
   "source": [
    "As always, we start from our trusty Multilayer Perceptron with a hidden layer. This will serve as our choice for demonstrating the various features."
   ]
  },
  {
   "cell_type": "code",
   "execution_count": 2,
   "metadata": {},
   "outputs": [
    {
     "data": {
      "text/plain": [
       "tensor([[-0.3476,  0.6260, -0.2687, -0.3632,  0.0774, -0.0411, -0.1944,  0.4926,\n",
       "          0.2889, -0.0884],\n",
       "        [-0.0889, -0.1205, -0.4132,  0.2207, -0.0655, -0.7331, -0.0264,  0.0929,\n",
       "          0.5911, -0.0599]], grad_fn=<MmBackward>)"
      ]
     },
     "execution_count": 2,
     "metadata": {},
     "output_type": "execute_result"
    }
   ],
   "source": [
    "import torch\n",
    "import torch.nn as nn\n",
    "\n",
    "net = nn.Sequential()\n",
    "net.add_module('Linear_1', nn.Linear(20, 256, bias = False))\n",
    "net.add_module('relu', nn.ReLU())\n",
    "net.add_module('Linear_2', nn.Linear(256, 10, bias = False))\n",
    "\n",
    "# the init_weights function initializes the weights of our multi-layer perceptron \n",
    "def init_weights(m):\n",
    "    if type(m) == nn.Linear:\n",
    "        torch.nn.init.xavier_uniform_(m.weight)\n",
    "\n",
    "# the net.apply() applies the above stated initialization of weights to our net        \n",
    "net.apply(init_weights) \n",
    "\n",
    "x = torch.randn(2,20)   #initialing a random tensor of shape (2,20)\n",
    "net(x)  #Forward computation"
   ]
  },
  {
   "cell_type": "markdown",
   "metadata": {},
   "source": [
    "## Parameter Access\n"
   ]
  },
  {
   "cell_type": "markdown",
   "metadata": {},
   "source": [
    "In the case of a Sequential class we can access the parameters with ease, simply by calling __net.parameters__. Let’s try this out in practice by inspecting the parameters."
   ]
  },
  {
   "cell_type": "code",
   "execution_count": 10,
   "metadata": {},
   "outputs": [
    {
     "name": "stdout",
     "output_type": "stream",
     "text": [
      "<bound method Module.parameters of Linear(in_features=20, out_features=256, bias=False)>\n",
      "<bound method Module.parameters of ReLU()>\n",
      "<bound method Module.parameters of Linear(in_features=256, out_features=10, bias=False)>\n",
      "<bound method Module.parameters of Sequential(\n",
      "  (Linear_1): Linear(in_features=20, out_features=256, bias=False)\n",
      "  (relu): ReLU()\n",
      "  (Linear_2): Linear(in_features=256, out_features=10, bias=False)\n",
      ")>\n"
     ]
    }
   ],
   "source": [
    "print(net[0].parameters)\n",
    "print(net[1].parameters)\n",
    "print(net[2].parameters)\n",
    "print(net.parameters)"
   ]
  },
  {
   "cell_type": "markdown",
   "metadata": {},
   "source": [
    "The output tells us a number of things. Firstly, there are 3 layers; 2 linear layers and 1 ReLU layer as we would expect. The output also specifies the shapes that we would expect from linear layers. In particular the names of the parameters are very useful since they allow us to identify parameters uniquely even in a network of hundreds of layers and with nontrivial structure. Also, the output tells us that bias is __False__ as we specified it.  \n"
   ]
  },
  {
   "cell_type": "markdown",
   "metadata": {},
   "source": [
    "### Targeted Parameters"
   ]
  },
  {
   "cell_type": "markdown",
   "metadata": {},
   "source": [
    "In order to do something useful with the parameters we need to access them, though. There are several ways to do this, ranging from simple to general. Let’s look at some of them."
   ]
  },
  {
   "cell_type": "code",
   "execution_count": 21,
   "metadata": {},
   "outputs": [
    {
     "name": "stdout",
     "output_type": "stream",
     "text": [
      "None\n"
     ]
    }
   ],
   "source": [
    "print(net[0].bias)"
   ]
  },
  {
   "cell_type": "markdown",
   "metadata": {},
   "source": [
    "It returns the bias of the first linear layer. Since we initialized the bias to be __False__, the output is None. <font color=red>We can also access the parameters by name, such as `Linear_1`. Both methods are entirely equivalent but the first method leads to much more readable code. </font>"
   ]
  },
  {
   "cell_type": "code",
   "execution_count": 4,
   "metadata": {},
   "outputs": [
    {
     "name": "stdout",
     "output_type": "stream",
     "text": [
      "Parameter containing:\n",
      "tensor([[-0.0240, -0.0679,  0.0283,  ..., -0.1449, -0.0616,  0.0193],\n",
      "        [-0.1202, -0.1113, -0.1229,  ..., -0.0826, -0.0808,  0.0885],\n",
      "        [ 0.0946, -0.0338, -0.0716,  ...,  0.0438,  0.0479, -0.0715],\n",
      "        ...,\n",
      "        [-0.0840, -0.0112,  0.1035,  ..., -0.0980,  0.1118,  0.1394],\n",
      "        [-0.0126,  0.0873,  0.0235,  ..., -0.0922,  0.0635,  0.0197],\n",
      "        [-0.1274,  0.0696,  0.0887,  ...,  0.0605,  0.1470,  0.0634]],\n",
      "       requires_grad=True)\n",
      "Parameter containing:\n",
      "tensor([[-0.0240, -0.0679,  0.0283,  ..., -0.1449, -0.0616,  0.0193],\n",
      "        [-0.1202, -0.1113, -0.1229,  ..., -0.0826, -0.0808,  0.0885],\n",
      "        [ 0.0946, -0.0338, -0.0716,  ...,  0.0438,  0.0479, -0.0715],\n",
      "        ...,\n",
      "        [-0.0840, -0.0112,  0.1035,  ..., -0.0980,  0.1118,  0.1394],\n",
      "        [-0.0126,  0.0873,  0.0235,  ..., -0.0922,  0.0635,  0.0197],\n",
      "        [-0.1274,  0.0696,  0.0887,  ...,  0.0605,  0.1470,  0.0634]],\n",
      "       requires_grad=True)\n"
     ]
    }
   ],
   "source": [
    "print(net.Linear_1.weight)\n",
    "print(net[0].weight)"
   ]
  },
  {
   "cell_type": "markdown",
   "metadata": {},
   "source": [
    "Note that the weights are nonzero. This is by design since we applied __Xavier initialization__ to our network. We can also compute the gradient with respect to the parameters. It has the same shape as the weight. However, since we did not invoke backpropagation yet, the output is None."
   ]
  },
  {
   "cell_type": "code",
   "execution_count": 5,
   "metadata": {},
   "outputs": [
    {
     "name": "stdout",
     "output_type": "stream",
     "text": [
      "None\n"
     ]
    }
   ],
   "source": [
    "print(net[0].weight.grad)"
   ]
  },
  {
   "cell_type": "markdown",
   "metadata": {},
   "source": [
    "### All parameters at once"
   ]
  },
  {
   "cell_type": "markdown",
   "metadata": {},
   "source": [
    "Accessing parameters as described above can be a bit tedious, in particular if we have more complex blocks, or blocks of blocks (or even blocks of blocks of blocks), since we need to walk through the entire tree in reverse order to how the blocks were constructed. To avoid this, <font color=red>blocks come with a method __state_dict__ which grabs all parameters of a network in one dictionary such that we can traverse it with ease. It does so by iterating over all constituents of a block and calls __state_dict__ on subblocks as needed.</font> To see the difference consider the following:"
   ]
  },
  {
   "cell_type": "code",
   "execution_count": 19,
   "metadata": {},
   "outputs": [
    {
     "name": "stdout",
     "output_type": "stream",
     "text": [
      "<bound method Module.state_dict of Linear(in_features=20, out_features=256, bias=False)>\n",
      "<bound method Module.state_dict of Sequential(\n",
      "  (Linear_1): Linear(in_features=20, out_features=256, bias=False)\n",
      "  (relu): ReLU()\n",
      "  (Linear_2): Linear(in_features=256, out_features=10, bias=False)\n",
      ")>\n"
     ]
    }
   ],
   "source": [
    "print(net[0].state_dict) # only for first layer, return a method\n",
    "print(net.state_dict) # for entire network, similar to net.parameters"
   ]
  },
  {
   "cell_type": "markdown",
   "metadata": {},
   "source": [
    "This provides us with a third way of accessing the parameters of the network. If we wanted to get the value of the weight term of the second linear layer we could simply use this:"
   ]
  },
  {
   "cell_type": "code",
   "execution_count": 17,
   "metadata": {},
   "outputs": [
    {
     "data": {
      "text/plain": [
       "tensor([[ 0.1123, -0.1297, -0.0970,  ..., -0.1204, -0.0854,  0.0092],\n",
       "        [ 0.0077,  0.0488,  0.1312,  ..., -0.0447, -0.0044,  0.0673],\n",
       "        [ 0.0033,  0.0940,  0.1256,  ...,  0.1111,  0.0165,  0.0680],\n",
       "        ...,\n",
       "        [ 0.0944, -0.0028,  0.1007,  ..., -0.0975, -0.0777, -0.1427],\n",
       "        [ 0.0014, -0.0281,  0.0673,  ..., -0.0432, -0.0399, -0.1075],\n",
       "        [ 0.0391,  0.1284,  0.0727,  ...,  0.0479, -0.1375,  0.0133]])"
      ]
     },
     "execution_count": 17,
     "metadata": {},
     "output_type": "execute_result"
    }
   ],
   "source": [
    "net.state_dict()['Linear_1.weight']"
   ]
  },
  {
   "cell_type": "markdown",
   "metadata": {},
   "source": [
    "<font color=red>**Three ways to access the network parameter values:**</font>\n",
    "1. `net[0].weight`; \n",
    "2. `net.Linear_1.weight`;\n",
    "3. `net.state_dict()['Linear_1.weight']` . `state_dict` is a method, while `state_dict()` returns the OrderedDict of net parameter values. \n",
    "\n",
    "<font color=red>`net.parameters` is a method that show the net structure, which is equivalent to `net.state_dict`. `net.parameters()` is a generator object that can be iterated with `for`. `net.state_dict()` returns an OrderDict. </font>"
   ]
  },
  {
   "cell_type": "markdown",
   "metadata": {},
   "source": [
    "### Rube Goldberg strikes again"
   ]
  },
  {
   "cell_type": "markdown",
   "metadata": {},
   "source": [
    "Let's see how the parameter naming conventions work if we nest multiple blocks inside each other. For that we first define a function that produces blocks (a block factory, so to speak) and then we combine these inside yet larger blocks."
   ]
  },
  {
   "cell_type": "code",
   "execution_count": 3,
   "metadata": {},
   "outputs": [
    {
     "data": {
      "text/plain": [
       "tensor([[-0.0419,  0.0923,  0.0180, -0.0494,  0.0616, -0.0501, -0.0488,  0.0974,\n",
       "         -0.1014,  0.1024],\n",
       "        [-0.0367,  0.0878,  0.0306, -0.0513,  0.0600, -0.0401, -0.0568,  0.0841,\n",
       "         -0.1074,  0.0789]], grad_fn=<AddmmBackward>)"
      ]
     },
     "execution_count": 3,
     "metadata": {},
     "output_type": "execute_result"
    }
   ],
   "source": [
    "def block1():\n",
    "    net = nn.Sequential(nn.Linear(16, 32),\n",
    "                        nn.ReLU(),\n",
    "                        nn.Linear(32, 16),\n",
    "                        nn.ReLU())\n",
    "    return net\n",
    "\n",
    "def block2():\n",
    "    net = nn.Sequential()\n",
    "    for i in range(4):\n",
    "        net.add_module('block' + str(i), block1())\n",
    "    return net    \n",
    "        \n",
    "rgnet = nn.Sequential()\n",
    "rgnet.add_module('model',block2())\n",
    "rgnet.add_module('Last_linear_layer', nn.Linear(16,10))\n",
    "rgnet.apply(init_weights)\n",
    "x = torch.randn(2,16)\n",
    "rgnet(x) # forward computation"
   ]
  },
  {
   "cell_type": "markdown",
   "metadata": {},
   "source": [
    "Now that we are done designing the network, let's see how it is organized. __state_dict__ provides us with this information, both in terms of naming and in terms of logical structure."
   ]
  },
  {
   "cell_type": "code",
   "execution_count": 6,
   "metadata": {},
   "outputs": [
    {
     "name": "stdout",
     "output_type": "stream",
     "text": [
      "18\n",
      "model.block0.0.weight\n",
      "model.block0.0.bias\n",
      "model.block0.2.weight\n",
      "model.block0.2.bias\n",
      "model.block1.0.weight\n",
      "model.block1.0.bias\n",
      "model.block1.2.weight\n",
      "model.block1.2.bias\n",
      "model.block2.0.weight\n",
      "model.block2.0.bias\n",
      "model.block2.2.weight\n",
      "model.block2.2.bias\n",
      "model.block3.0.weight\n",
      "model.block3.0.bias\n",
      "model.block3.2.weight\n",
      "model.block3.2.bias\n",
      "Last_linear_layer.weight\n",
      "Last_linear_layer.bias\n",
      "18\n"
     ]
    }
   ],
   "source": [
    "# print(rgnet.parameters)\n",
    "idx = 0\n",
    "for param in rgnet.parameters():\n",
    "    idx += 1\n",
    "    print(param.size(), param.dtype)\n",
    "print(idx) \n",
    "#     print(param.size(), param.data, param.dtype) \n",
    "\n",
    "for key, value in rgnet.state_dict().items():\n",
    "    print(key)\n",
    "print(len(rgnet.state_dict()))\n",
    "\n",
    "# # equivalent form, where named_parameters() is a generator object\n",
    "# for name, param in rgnet.named_parameters():\n",
    "#     print(name)"
   ]
  },
  {
   "cell_type": "markdown",
   "metadata": {},
   "source": [
    "### <font color=red> Three ways to iterate all the net parameters</font>\n",
    "1. `for param in net.parameters()`, `param.size(), param.data, param.dtype`;\n",
    "2. `for key, value in net.state_dict().items()`, `value` is a Tensor, equivalent to `param.data`;\n",
    "3. `for name, param in net.named_parameters()`.\n",
    "\n",
    "Since the layers are hierarchically generated, we can also access them accordingly. For instance, to access the first major block, within it the second subblock and then within it, in turn the bias of the first layer, we perform the following."
   ]
  },
  {
   "cell_type": "code",
   "execution_count": 33,
   "metadata": {},
   "outputs": [
    {
     "data": {
      "text/plain": [
       "tensor([ 0.1900,  0.1228,  0.2197,  0.2124, -0.1286, -0.1921,  0.0118, -0.0039,\n",
       "         0.1521,  0.1227, -0.1745, -0.0468, -0.1413,  0.1385,  0.1220,  0.0322,\n",
       "         0.1811, -0.0116,  0.1389, -0.0166,  0.1364, -0.1574,  0.1024,  0.1932,\n",
       "        -0.1661, -0.1360, -0.1226,  0.0430,  0.1220,  0.0052, -0.1072, -0.1957])"
      ]
     },
     "execution_count": 33,
     "metadata": {},
     "output_type": "execute_result"
    }
   ],
   "source": [
    "rgnet[0][1][0].bias.data"
   ]
  },
  {
   "cell_type": "markdown",
   "metadata": {},
   "source": [
    "## Parameter Initialization"
   ]
  },
  {
   "cell_type": "markdown",
   "metadata": {},
   "source": [
    "Now that we know how to access the parameters, let's look at how to initialize them properly. We discussed the need for initialization in section Numerical Stability. We often need to use methods to initialize the weights. PyTorch's init module provides a variety of preset initialization methods, but if we want something out of the ordinary, we need a bit of extra work. To initialize the weights of a single layer, we use a function from __torch.nn.init__ . For instance:"
   ]
  },
  {
   "cell_type": "code",
   "execution_count": 34,
   "metadata": {},
   "outputs": [
    {
     "data": {
      "text/plain": [
       "Parameter containing:\n",
       "tensor([[-0.0004,  0.0117],\n",
       "        [ 0.0066,  0.0032],\n",
       "        [-0.0063, -0.0070],\n",
       "        [ 0.0066, -0.0039],\n",
       "        [ 0.0049, -0.0051]], requires_grad=True)"
      ]
     },
     "execution_count": 34,
     "metadata": {},
     "output_type": "execute_result"
    }
   ],
   "source": [
    "linear1 = nn.Linear(2,5,bias=True)\n",
    "torch.nn.init.normal_(linear1.weight, mean=0, std =0.01)  "
   ]
  },
  {
   "cell_type": "markdown",
   "metadata": {},
   "source": [
    "If we wanted to initialize all parameters to 1, we could do this simply by changing the initializer to `Constant(1)`"
   ]
  },
  {
   "cell_type": "code",
   "execution_count": 35,
   "metadata": {},
   "outputs": [
    {
     "name": "stdout",
     "output_type": "stream",
     "text": [
      "OrderedDict([('Linear_1.weight', tensor([[ 0.3055,  1.3963],\n",
      "        [-0.4637,  0.4855],\n",
      "        [-0.2062, -0.2978],\n",
      "        [-1.8589,  0.4849],\n",
      "        [-0.6600,  0.5511]])), ('Linear_2.weight', tensor([[ 1.0764,  0.3084,  1.9261, -0.2602, -0.4658],\n",
      "        [-0.4218,  1.8713, -1.4679,  1.9242,  0.1827],\n",
      "        [ 1.1824, -1.4874, -0.4012,  0.5764, -0.5203],\n",
      "        [ 0.0208,  0.0575,  1.5464, -0.5157, -0.9706],\n",
      "        [-0.4874, -0.2499, -0.1963,  0.6635,  0.0814]]))])\n"
     ]
    }
   ],
   "source": [
    "def init_weight(m):\n",
    "    if type(m) == nn.Linear:\n",
    "        torch.nn.init.normal_(m.weight)\n",
    "        \n",
    "net = nn.Sequential()\n",
    "net.add_module('Linear_1', nn.Linear(2, 5, bias = False))\n",
    "net.add_module('Linear_2', nn.Linear(5, 5, bias = False))\n",
    "\n",
    "net.apply(init_weight)\n",
    "print(net.state_dict())"
   ]
  },
  {
   "cell_type": "markdown",
   "metadata": {},
   "source": [
    "### Built-in Initialization"
   ]
  },
  {
   "cell_type": "markdown",
   "metadata": {},
   "source": [
    "Let’s begin with the built-in initializers. The code below initializes all parameters with Gaussian random variables."
   ]
  },
  {
   "cell_type": "code",
   "execution_count": 36,
   "metadata": {},
   "outputs": [
    {
     "name": "stdout",
     "output_type": "stream",
     "text": [
      "Parameter containing:\n",
      "tensor([[ 0.6190,  0.0903],\n",
      "        [ 1.5809,  0.4545],\n",
      "        [ 0.1126, -0.9759],\n",
      "        [ 0.4031,  0.0233],\n",
      "        [ 0.1432,  2.5701]], requires_grad=True)\n"
     ]
    }
   ],
   "source": [
    "def gaussian_normal(m):\n",
    "    if type(m) == nn.Linear:\n",
    "        torch.nn.init.normal_(m.weight)\n",
    "        \n",
    "net.apply(gaussian_normal)\n",
    "print(net[0].weight)"
   ]
  },
  {
   "cell_type": "markdown",
   "metadata": {},
   "source": [
    "<font color=red>If we wanted to initialize all parameters to 1, we could do this simply by changing the initializer to __torch.nn.init.constant_(tensor,1)__.</font>"
   ]
  },
  {
   "cell_type": "code",
   "execution_count": 37,
   "metadata": {},
   "outputs": [
    {
     "name": "stdout",
     "output_type": "stream",
     "text": [
      "OrderedDict([('Linear_1.weight', tensor([[1., 1.],\n",
      "        [1., 1.],\n",
      "        [1., 1.],\n",
      "        [1., 1.],\n",
      "        [1., 1.]])), ('Linear_2.weight', tensor([[1., 1., 1., 1., 1.],\n",
      "        [1., 1., 1., 1., 1.],\n",
      "        [1., 1., 1., 1., 1.],\n",
      "        [1., 1., 1., 1., 1.],\n",
      "        [1., 1., 1., 1., 1.]]))])\n"
     ]
    }
   ],
   "source": [
    "def ones(m):\n",
    "    if type(m) == nn.Linear:\n",
    "        torch.nn.init.constant_(m.weight, 1)\n",
    "        \n",
    "net.apply(ones)\n",
    "print(net.state_dict())"
   ]
  },
  {
   "cell_type": "markdown",
   "metadata": {},
   "source": [
    "If we want to initialize only a specific parameter in a different manner, we can simply set the initializer only for the appropriate subblock (or parameter) for that matter. For instance, below we initialize the __second layer__ to a constant value of __42__ and we use the __Xavier initializer__ for the weights of the __first layer__."
   ]
  },
  {
   "cell_type": "code",
   "execution_count": 38,
   "metadata": {},
   "outputs": [
    {
     "name": "stdout",
     "output_type": "stream",
     "text": [
      "OrderedDict([('first.Linear_1.weight', tensor([[-0.1309,  0.5675],\n",
      "        [ 0.1852,  0.7134],\n",
      "        [-0.5765, -0.3884],\n",
      "        [ 0.3217, -0.0702],\n",
      "        [ 0.4140, -0.2638]])), ('second.Linear_2.weight', tensor([[42., 42., 42., 42., 42.],\n",
      "        [42., 42., 42., 42., 42.],\n",
      "        [42., 42., 42., 42., 42.],\n",
      "        [42., 42., 42., 42., 42.],\n",
      "        [42., 42., 42., 42., 42.]]))])\n"
     ]
    }
   ],
   "source": [
    "block1 = nn.Sequential()\n",
    "block1.add_module('Linear_1', nn.Linear(2,5,bias=False))\n",
    "block2 = nn.Sequential()\n",
    "block2.add_module('Linear_2', nn.Linear(5,5,bias=False))\n",
    "\n",
    "model = nn.Sequential()\n",
    "model.add_module('first', block1)\n",
    "model.add_module('second', block2)\n",
    "\n",
    "def xavier_normal(m):\n",
    "    if type(m) == nn.Linear:\n",
    "        torch.nn.init.xavier_uniform_(m.weight)\n",
    "def init_42(m):\n",
    "    if type(m) == nn.Linear:\n",
    "        torch.nn.init.constant_(m.weight, 42)\n",
    "\n",
    "# initialize the blocks separately             \n",
    "block1.apply(xavier_normal)\n",
    "block2.apply(init_42)\n",
    "print(model.state_dict())"
   ]
  },
  {
   "cell_type": "markdown",
   "metadata": {},
   "source": [
    "### Custom Initialization"
   ]
  },
  {
   "cell_type": "markdown",
   "metadata": {},
   "source": [
    "Sometimes, the initialization methods we need are not provided in the init module. At this point, we can implement our desired implementation by writing the desired functions and use them to initialize the weights. In the example below, we pick a decidedly bizarre and nontrivial distribution, just to prove the point. We draw the coefficients from the following distribution:"
   ]
  },
  {
   "cell_type": "markdown",
   "metadata": {},
   "source": [
    "$$ \\begin{aligned} w \\sim \\begin{cases} U[5, 10] & \\text{ with probability } \\frac{1}{4} \\   \n",
    "0 & \\text{ with probability } \\frac{1}{2} \\      \n",
    "U[-10, -5] & \\text{ with probability } \\frac{1}{4} \\end{cases} \\end{aligned} $$"
   ]
  },
  {
   "cell_type": "code",
   "execution_count": 39,
   "metadata": {},
   "outputs": [
    {
     "name": "stdout",
     "output_type": "stream",
     "text": [
      "OrderedDict([('0.weight', tensor([[ 0.0000,  6.4634,  7.9618,  0.0000,  0.0000],\n",
      "        [ 7.5903,  0.0000, -6.7692,  0.0000,  0.0000],\n",
      "        [ 0.0000,  6.1067,  0.0000,  0.0000,  7.3671],\n",
      "        [ 0.0000,  7.3875, -6.7359,  9.6736,  8.2806],\n",
      "        [ 7.0169,  7.7853,  0.0000, -9.0504, -6.4618]]))])\n"
     ]
    }
   ],
   "source": [
    "def custom(m):\n",
    "    torch.nn.init.uniform_(m[0].weight, -10,10)\n",
    "    for i in range(m[0].weight.data.shape[0]):\n",
    "        for j in range(m[0].weight.data.shape[1]):\n",
    "            if m[0].weight.data[i][j]<=5 and m[0].weight.data[i][j]>=-5:\n",
    "                m[0].weight.data[i][j]=0\n",
    "    \n",
    "    \n",
    "m = nn.Sequential(nn.Linear(5,5,bias=False))\n",
    "custom(m)\n",
    "print(m.state_dict())"
   ]
  },
  {
   "cell_type": "markdown",
   "metadata": {},
   "source": [
    "If even this functionality is insufficient, we can set parameters directly. Since __.data__ returns a Tensor we can access it just like any other matrix."
   ]
  },
  {
   "cell_type": "code",
   "execution_count": 40,
   "metadata": {},
   "outputs": [
    {
     "data": {
      "text/plain": [
       "tensor([[42.0000,  7.4634,  8.9618,  1.0000,  1.0000],\n",
       "        [ 8.5903,  1.0000, -5.7692,  1.0000,  1.0000],\n",
       "        [ 1.0000,  7.1067,  1.0000,  1.0000,  8.3671],\n",
       "        [ 1.0000,  8.3875, -5.7359, 10.6736,  9.2806],\n",
       "        [ 8.0169,  8.7853,  1.0000, -8.0504, -5.4618]])"
      ]
     },
     "execution_count": 40,
     "metadata": {},
     "output_type": "execute_result"
    }
   ],
   "source": [
    "m[0].weight.data +=1\n",
    "m[0].weight.data[0][0] = 42\n",
    "m[0].weight.data"
   ]
  },
  {
   "cell_type": "markdown",
   "metadata": {},
   "source": [
    "## Tied Parameters"
   ]
  },
  {
   "cell_type": "markdown",
   "metadata": {},
   "source": [
    "In some cases, we want to <font color=red>share model parameters across multiple layers</font>. For instance when we want to find good word embeddings we may decide to use the same parameters both for encoding and decoding of words. Let’s see how to do this a bit more elegantly. In the following we <font color=red>allocate a linear layer and then use it multiple times for sharing the weights.</font>"
   ]
  },
  {
   "cell_type": "code",
   "execution_count": 41,
   "metadata": {},
   "outputs": [
    {
     "name": "stdout",
     "output_type": "stream",
     "text": [
      "tensor([[True, True, True, True, True, True, True, True],\n",
      "        [True, True, True, True, True, True, True, True],\n",
      "        [True, True, True, True, True, True, True, True],\n",
      "        [True, True, True, True, True, True, True, True],\n",
      "        [True, True, True, True, True, True, True, True],\n",
      "        [True, True, True, True, True, True, True, True],\n",
      "        [True, True, True, True, True, True, True, True],\n",
      "        [True, True, True, True, True, True, True, True]])\n"
     ]
    }
   ],
   "source": [
    "# We need to give the shared layer a name such that we can reference its\n",
    "# parameters\n",
    "\n",
    "shared = nn.Sequential()\n",
    "shared.add_module('linear_shared', nn.Linear(8,8,bias=False))\n",
    "shared.add_module('relu_shared', nn.ReLU())                  \n",
    "net = nn.Sequential(nn.Linear(20,8,bias=False),\n",
    "               nn.ReLU(),\n",
    "               shared,\n",
    "               shared,\n",
    "               nn.Linear(8,10,bias=False))\n",
    "\n",
    "net.apply(init_weights)\n",
    "\n",
    "print(net[2][0].weight==net[3][0].weight)\n"
   ]
  },
  {
   "cell_type": "markdown",
   "metadata": {},
   "source": [
    "The above example shows that the parameters of the second and third layer are tied. They are identical rather than just being equal. That is, by changing one of the parameters the other one changes, too. "
   ]
  },
  {
   "cell_type": "markdown",
   "metadata": {},
   "source": [
    "## Summary\n",
    "\n",
    "* We have several ways to access, initialize, and tie model parameters.\n",
    "* We can use custom initialization.\n",
    "* PyTorch has a sophisticated mechanism for accessing parameters in a unique and hierarchical manner."
   ]
  },
  {
   "cell_type": "markdown",
   "metadata": {},
   "source": [
    "## Exercises\n",
    "\n",
    "1. Use the FancyMLP defined in :numref:`chapter_model_construction` and access the parameters of the various layers.\n",
    "1. Look at the [PyTorch documentation](https://pytorch.org/docs/stable/_modules/torch/nn/init.html) and explore different initializers.\n",
    "1. Try accessing the model parameters after `net.apply(initialization)` and before `net(x)` to observe the shape of the model parameters. What changes? Why?\n",
    "1. Construct a multilayer perceptron containing a shared parameter layer and train it. During the training process, observe the model parameters and gradients of each layer.\n",
    "1. Why is sharing parameters a good idea?\n"
   ]
  }
 ],
 "metadata": {
  "kernelspec": {
   "display_name": "Python [conda env:dive_into_deep_learning] *",
   "language": "python",
   "name": "conda-env-dive_into_deep_learning-py"
  },
  "language_info": {
   "codemirror_mode": {
    "name": "ipython",
    "version": 3
   },
   "file_extension": ".py",
   "mimetype": "text/x-python",
   "name": "python",
   "nbconvert_exporter": "python",
   "pygments_lexer": "ipython3",
   "version": "3.6.10"
  }
 },
 "nbformat": 4,
 "nbformat_minor": 2
}
