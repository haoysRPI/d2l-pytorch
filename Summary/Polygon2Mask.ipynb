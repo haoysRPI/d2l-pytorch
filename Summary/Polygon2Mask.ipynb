{
 "cells": [
  {
   "cell_type": "code",
   "execution_count": null,
   "metadata": {},
   "outputs": [],
   "source": [
    "import matplotlib.pyplot as plt\n",
    "\n",
    "import numpy as np\n",
    "from skimage import draw\n",
    "from matplotlib import path\n",
    "\n",
    "\n",
    "def get_mask_from_polygon_mpl(image_shape, polygon):\n",
    "  \"\"\"Get a mask image of pixels inside the polygon.\n",
    "\n",
    "  Args:\n",
    "    image_shape: tuple of size 2.\n",
    "    polygon: Numpy array of dimension 2 (2xN).\n",
    "  \"\"\"\n",
    "  xx, yy = np.meshgrid(np.arange(image_shape[1]), np.arange(image_shape[0]))\n",
    "  xx, yy = xx.flatten(), yy.flatten()\n",
    "  indices = np.vstack((xx, yy)).T\n",
    "  mask = path.Path(polygon).contains_points(indices)\n",
    "  mask = mask.reshape(image_shape)\n",
    "  mask = mask.astype('bool')\n",
    "  return mask\n",
    "\n",
    "\n",
    "def get_mask_from_polygon_skimage(image_shape, polygon):\n",
    "  \"\"\"Get a mask image of pixels inside the polygon.\n",
    "\n",
    "  Args:\n",
    "    image_shape: tuple of size 2.\n",
    "    polygon: Numpy array of dimension 2 (2xN).\n",
    "  \"\"\"\n",
    "  vertex_row_coords = polygon[:, 1]\n",
    "  vertex_col_coords = polygon[:, 0]\n",
    "  fill_row_coords, fill_col_coords = draw.polygon(vertex_row_coords, vertex_col_coords, image_shape)\n",
    "  mask = np.zeros(image_shape, dtype=np.bool)\n",
    "  mask[fill_row_coords, fill_col_coords] = True\n",
    "  return mask\n",
    "\n",
    "image_shape = (2000, 2000)\n",
    "polygon = np.array([[80, 111, 146, 234, 407, 300, 187, 45], [465, 438, 499, 380, 450, 287, 210, 167]]).T"
   ]
  }
 ],
 "metadata": {
  "kernelspec": {
   "display_name": "Python 3",
   "language": "python",
   "name": "python3"
  },
  "language_info": {
   "codemirror_mode": {
    "name": "ipython",
    "version": 3
   },
   "file_extension": ".py",
   "mimetype": "text/x-python",
   "name": "python",
   "nbconvert_exporter": "python",
   "pygments_lexer": "ipython3",
   "version": "3.7.6"
  }
 },
 "nbformat": 4,
 "nbformat_minor": 4
}
