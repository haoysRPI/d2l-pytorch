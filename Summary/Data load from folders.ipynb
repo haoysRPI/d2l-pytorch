{
 "cells": [
  {
   "cell_type": "markdown",
   "metadata": {},
   "source": [
    "Detailed materials: https://pytorch.org/docs/stable/torchvision/datasets.html\n",
    "## ImageFolder\n",
    "```\n",
    "CLASS torchvision.datasets.ImageFolder(root, transform=None, target_transform=None, loader=<function default_loader>, is_valid_file=None)\n",
    "```\n",
    "\n",
    "A generic data loader where the images are arranged in this way:\n",
    "```\n",
    "root/dog/xxx.png\n",
    "root/dog/xxy.png\n",
    "root/dog/xxz.png\n",
    "\n",
    "root/cat/123.png\n",
    "root/cat/nsdf3.png\n",
    "root/cat/asd932_.png\n",
    "```"
   ]
  },
  {
   "cell_type": "markdown",
   "metadata": {},
   "source": [
    "## DatasetFolder\n",
    "```\n",
    "CLASS torchvision.datasets.DatasetFolder(root, loader, extensions=None, transform=None, target_transform=None, is_valid_file=None)\n",
    "```\n",
    "A generic data loader where the samples are arranged in this way:\n",
    "```\n",
    "root/class_x/xxx.ext\n",
    "root/class_x/xxy.ext\n",
    "root/class_x/xxz.ext\n",
    "\n",
    "root/class_y/123.ext\n",
    "root/class_y/nsdf3.ext\n",
    "root/class_y/asd932_.ext\n",
    "```"
   ]
  },
  {
   "cell_type": "markdown",
   "metadata": {},
   "source": [
    "<font color=red>In both classes, the supported image extensions include:</font>\n",
    "```\n",
    "IMG_EXTENSIONS = ('.jpg', '.jpeg', '.png', '.ppm', '.bmp', '.pgm', '.tif', '.tiff', '.webp')\n",
    "```"
   ]
  },
  {
   "cell_type": "markdown",
   "metadata": {},
   "source": [
    "1. For the classes including `MNIST`, `Fashion-MNIST`, `KMNIST`, `EMNIST`, the supported files are `training.pt` and `test.pt`. \n",
    "2. For the classes `CocoCaptions`, `CocoDetection`, and `Flickr`, it requires inputs: root directory where images are downloaded to, and path to json annotation file, i.e., image files and json annotation file are both needed. \n",
    "3. Class `CIFAR` needs root directory of dataset where directory `cifar-10-batches-py` exists or will be saved to if download is set to True.\n"
   ]
  },
  {
   "cell_type": "code",
   "execution_count": null,
   "metadata": {},
   "outputs": [],
   "source": []
  }
 ],
 "metadata": {
  "kernelspec": {
   "display_name": "Python 3",
   "language": "python",
   "name": "python3"
  },
  "language_info": {
   "codemirror_mode": {
    "name": "ipython",
    "version": 3
   },
   "file_extension": ".py",
   "mimetype": "text/x-python",
   "name": "python",
   "nbconvert_exporter": "python",
   "pygments_lexer": "ipython3",
   "version": "3.6.10"
  }
 },
 "nbformat": 4,
 "nbformat_minor": 4
}
