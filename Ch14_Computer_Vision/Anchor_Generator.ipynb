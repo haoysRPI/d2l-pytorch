{
 "cells": [
  {
   "cell_type": "markdown",
   "metadata": {},
   "source": [
    "## 2-stage Anchor Generator: Fast RCNN, Faster RCNN, Mask RCNN"
   ]
  },
  {
   "cell_type": "code",
   "execution_count": 1,
   "metadata": {},
   "outputs": [],
   "source": [
    "class AnchorGenerator(object):\n",
    "\n",
    "    def __init__(self, base_size, scales, ratios, scale_major=True, ctr=None):\n",
    "        self.base_size = base_size\n",
    "        self.scales = torch.Tensor(scales)\n",
    "        self.ratios = torch.Tensor(ratios)\n",
    "        self.scale_major = scale_major\n",
    "        self.ctr = ctr\n",
    "        self.base_anchors = self.gen_base_anchors()\n",
    "\n",
    "    @property\n",
    "    def num_base_anchors(self):\n",
    "        return self.base_anchors.size(0)\n",
    "\n",
    "    def gen_base_anchors(self):\n",
    "        h = self.base_size[0]\n",
    "        w = self.base_size[1]\n",
    "        if self.ctr is None:\n",
    "            # the center pixel position\n",
    "            x_ctr = 0.5 * (w - 1)\n",
    "            y_ctr = 0.5 * (h - 1)\n",
    "        else:\n",
    "            x_ctr, y_ctr = self.ctr\n",
    "\n",
    "        h_ratios = torch.sqrt(self.ratios)\n",
    "        w_ratios = 1 / h_ratios\n",
    "        if self.scale_major:\n",
    "            ws = (w * w_ratios[:, None] * self.scales[None, :]).view(-1)\n",
    "            hs = (h * h_ratios[:, None] * self.scales[None, :]).view(-1)\n",
    "        else:\n",
    "            ws = (w * self.scales[:, None] * w_ratios[None, :]).view(-1)\n",
    "            hs = (h * self.scales[:, None] * h_ratios[None, :]).view(-1)\n",
    "\n",
    "        base_anchors = torch.stack(\n",
    "            [\n",
    "                x_ctr - 0.5 * (ws - 1), y_ctr - 0.5 * (hs - 1),\n",
    "                x_ctr + 0.5 * (ws - 1), y_ctr + 0.5 * (hs - 1)\n",
    "            ],\n",
    "            dim=-1).round()\n",
    "\n",
    "        return base_anchors"
   ]
  },
  {
   "cell_type": "markdown",
   "metadata": {},
   "source": [
    "## 1-stage Grid Anchor Generator: YOLO"
   ]
  },
  {
   "cell_type": "code",
   "execution_count": null,
   "metadata": {},
   "outputs": [],
   "source": [
    "class AnchorGenerator(object):\n",
    "\n",
    "    def __init__(self, base_size, scales, ratios, scale_major=True, ctr=None):\n",
    "        self.base_size = base_size\n",
    "        self.scales = torch.Tensor(scales)\n",
    "        self.ratios = torch.Tensor(ratios)\n",
    "        self.scale_major = scale_major\n",
    "        self.ctr = ctr\n",
    "        self.base_anchors = self.gen_base_anchors()\n",
    "\n",
    "    @property\n",
    "    def num_base_anchors(self):\n",
    "        return self.base_anchors.size(0)\n",
    "\n",
    "    def grid_anchors(self, featmap_size, stride=16, device='cuda'):\n",
    "        base_anchors = self.base_anchors.to(device)\n",
    "\n",
    "        feat_h, feat_w = featmap_size\n",
    "        shift_x = torch.arange(0, feat_w, device=device) * stride\n",
    "        shift_y = torch.arange(0, feat_h, device=device) * stride\n",
    "        shift_xx, shift_yy = self._meshgrid(shift_x, shift_y)\n",
    "        shifts = torch.stack([shift_xx, shift_yy, shift_xx, shift_yy], dim=-1)\n",
    "        shifts = shifts.type_as(base_anchors)\n",
    "        # first feat_w elements correspond to the first row of shifts\n",
    "        # add A anchors (1, A, 4) to K shifts (K, 1, 4) to get\n",
    "        # shifted anchors (K, A, 4), reshape to (K*A, 4)\n",
    "\n",
    "        all_anchors = base_anchors[None, :, :] + shifts[:, None, :]\n",
    "        all_anchors = all_anchors.view(-1, 4)\n",
    "        # first A rows correspond to A anchors of (0, 0) in feature map,\n",
    "        # then (0, 1), (0, 2), ...\n",
    "        return all_anchors"
   ]
  }
 ],
 "metadata": {
  "kernelspec": {
   "display_name": "Python 3",
   "language": "python",
   "name": "python3"
  },
  "language_info": {
   "codemirror_mode": {
    "name": "ipython",
    "version": 3
   },
   "file_extension": ".py",
   "mimetype": "text/x-python",
   "name": "python",
   "nbconvert_exporter": "python",
   "pygments_lexer": "ipython3",
   "version": "3.6.10"
  }
 },
 "nbformat": 4,
 "nbformat_minor": 4
}
